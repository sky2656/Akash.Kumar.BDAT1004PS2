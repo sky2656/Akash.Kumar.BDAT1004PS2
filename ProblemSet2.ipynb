{
 "cells": [
  {
   "cell_type": "markdown",
   "id": "bc938142",
   "metadata": {},
   "source": [
    "# Question 1\n",
    "\n",
    "Consider the following Python module:\n",
    "a = 0\n",
    "def b():\n",
    " global a\n",
    " a = c(a)\n",
    "def c(a):\n",
    " return a + 2\n",
    " \n",
    "After importing the module into the interpreter, you execute:\n",
    ">>> b()\n",
    ">>> b()\n",
    ">>> b()\n",
    ">>> a\n",
    "?\n",
    "\n",
    "What value is displayed when the last expression (a) is evaluated? Explain your\n",
    "answer by indicating what happens in every executed statement.\n"
   ]
  },
  {
   "cell_type": "code",
   "execution_count": 1,
   "id": "dfa9bcff",
   "metadata": {},
   "outputs": [
    {
     "name": "stdout",
     "output_type": "stream",
     "text": [
      "6\n"
     ]
    }
   ],
   "source": [
    "a = 0\n",
    "\n",
    "def b():\n",
    "    global a\n",
    "    a = c(a)\n",
    "\n",
    "def c(a):\n",
    "    return a + 2\n",
    "\n",
    "b()  # Calls b(), which calls c(a) and sets a = c(a) = c(0) = 2\n",
    "b()  # Calls b() again, which calls c(a) and sets a = c(a) = c(2) = 4\n",
    "b()  # Calls b() again, which calls c(a) and sets a = c(a) = c(4) = 6\n",
    "\n",
    "print(a)  # Displays the current value of a, which is 6\n"
   ]
  },
  {
   "cell_type": "markdown",
   "id": "5ec267d5",
   "metadata": {},
   "source": [
    "# Answer: \n",
    "\n",
    "a) Initially, a is set to 0.\n",
    "\n",
    "b) The function b() is defined, which uses the global keyword to modify the global variable a by assigning it the result of calling c(a).\n",
    "\n",
    "c) The function c(a) adds 2 to the input a.\n",
    "\n",
    "After executing the provided sequence of statements, the value of a is 6. Each call to b() increments a by 2 (the result of calling c(a)), so a becomes 2, then 4, and finally 6."
   ]
  },
  {
   "cell_type": "markdown",
   "id": "b922a0a2",
   "metadata": {},
   "source": [
    "# Question 2\n",
    "\n",
    "Function fileLength(), given to you, takes the name of a file as input and returns\n",
    "the length of the file:\n",
    "\n",
    ">>> fileLength('midterm.py')\n",
    "284\n",
    ">>> fileLength('idterm.py')\n",
    "Traceback (most recent call last):\n",
    "File \"<pyshell#34>\", line 1, in <module>\n",
    "    \n",
    " fileLength('idterm.py')\n",
    "File \"/Users/me/midterm.py\", line 3, in fileLength\n",
    " infile = open(filename)\n",
    "FileNotFoundError: [Errno 2] No such file or directory:\n",
    "'idterm.py'\n",
    "    \n",
    "As shown above, if the file cannot be found by the interpreter or if it cannot be read\n",
    "as a text file, an exception will be raised. Modify function fileLength() so that a\n",
    "friendly message is printed instead:\n",
    ">>> fileLength('midterm.py')\n",
    "358\n",
    ">>> fileLength('idterm.py')\n",
    "File idterm.py not found.\n",
    "\n"
   ]
  },
  {
   "cell_type": "code",
   "execution_count": 5,
   "id": "619ce8c2",
   "metadata": {},
   "outputs": [
    {
     "name": "stdout",
     "output_type": "stream",
     "text": [
      "FileLength('midterm.py')\n",
      "29648\n",
      "File idterm.py not found.\n"
     ]
    }
   ],
   "source": [
    "def fileLength(filename):\n",
    "    try:\n",
    "        with open(filename) as infile:\n",
    "            content = infile.read()\n",
    "            print(\"FileLength('\" + filename + \"')\")\n",
    "            print(len(content))\n",
    "    except FileNotFoundError:\n",
    "        print(\"File \" + filename + \" not found.\")\n",
    "\n",
    "\n",
    "fileLength('midterm.py') # my file contains 29648 character\n",
    "fileLength('idterm.py') \n"
   ]
  },
  {
   "cell_type": "markdown",
   "id": "dffdfa5b",
   "metadata": {},
   "source": [
    "# Question 3\n",
    "\n",
    "Write a class named Marsupial that can be used as shown below:\n",
    ">>> m = Marsupial()\n",
    ">>> m.put_in_pouch('doll')\n",
    ">>> m.put_in_pouch('firetruck')\n",
    ">>> m.put_in_pouch('kitten')\n",
    ">>> m.pouch_contents()\n",
    "['doll', 'firetruck', 'kitten']\n",
    "\n",
    "Now write a class named Kangaroo as a subclass of Marsupial that inherits all the\n",
    "attributes of Marsupial and also:\n",
    "\n",
    "a. extends the Marsupial __init__ constructor to take, as input, the\n",
    "coordinates x and y of the Kangaroo object,\n",
    "b. supports method jump that takes number values dx and dy as input and\n",
    "moves the kangaroo by dx units along the x-axis and by dy units along the yaxis, and\n",
    "c. overloads the __str__ operator so it behaves as shown below.\n",
    ">>> k = Kangaroo(0,0)\n",
    ">>> print(k)\n",
    "I am a Kangaroo located at coordinates (0,0)\n",
    ">>> k.put_in_pouch('doll')\n",
    ">>> k.put_in_pouch('firetruck')\n",
    ">>> k.put_in_pouch('kitten')\n",
    ">>> k.pouch_contents()\n",
    "['doll', 'firetruck', 'kitten']\n",
    ">>> k.jump(1,0)\n",
    ">>> k.jump(1,0)\n",
    ">>> k.jump(1,0)\n",
    ">>> print(k)\n",
    "I am a Kangaroo located at coordinates (3,0)\n"
   ]
  },
  {
   "cell_type": "code",
   "execution_count": 9,
   "id": "9fdfb322",
   "metadata": {},
   "outputs": [
    {
     "name": "stdout",
     "output_type": "stream",
     "text": [
      "Contents of the Marsupial pouch: ['doll', 'firetruck', 'kitten']\n",
      "I am a Kangaroo located at coordinates (0, 0)\n",
      "Contents of the Kangaroo pouch: ['doll', 'firetruck', 'kitten']\n",
      "I am a Kangaroo located at coordinates (3, 0)\n"
     ]
    }
   ],
   "source": [
    "class Marsupial:\n",
    "    def __init__(self):\n",
    "        self.pouch = []  # Initialize an empty array\n",
    "\n",
    "    def put_in_pouch(self, item):\n",
    "        self.pouch.append(item)  # Add an item to the array\n",
    "\n",
    "    def pouch_contents(self):\n",
    "        return self.pouch  # Return the contents of the array\n",
    "\n",
    "\n",
    "# Kangaroo inherits from Marsupial, gaining its attributes and methods\n",
    "class Kangaroo(Marsupial):\n",
    "    def __init__(self, x, y):\n",
    "        super().__init__()  # Call the Marsupial constructor to initialize the array\n",
    "        self.x = x  # Initialize x-coordinate\n",
    "        self.y = y  # Initialize y-coordinate\n",
    "\n",
    "    def jump(self, dx, dy):\n",
    "        # Update the coordinates by dx and dy\n",
    "        self.x += dx\n",
    "        self.y += dy\n",
    "\n",
    "    def __str__(self):\n",
    "        return 'I am a Kangaroo located at coordinates (' + str(self.x) + ', ' + str(self.y) + ')'\n",
    "\n",
    "\n",
    "\n",
    "m = Marsupial()\n",
    "m.put_in_pouch('doll')\n",
    "m.put_in_pouch('firetruck')\n",
    "m.put_in_pouch('kitten')\n",
    "print('Contents of the Marsupial pouch:', m.pouch_contents())\n",
    "\n",
    "k = Kangaroo(0, 0)\n",
    "print(k)  \n",
    "\n",
    "k.put_in_pouch('doll')\n",
    "k.put_in_pouch('firetruck')\n",
    "k.put_in_pouch('kitten')\n",
    "print('Contents of the Kangaroo pouch:', k.pouch_contents())\n",
    "\n",
    "k.jump(1, 0)\n",
    "k.jump(1, 0)\n",
    "k.jump(1, 0)\n",
    "print(k)\n"
   ]
  },
  {
   "cell_type": "markdown",
   "id": "0dd3128d",
   "metadata": {},
   "source": [
    "# Question 4\n",
    "\n",
    "Write function collatz() that takes a positive integer x as input and prints the\n",
    "Collatz sequence starting at x. A Collatz sequence is obtained by repeatedly applying\n",
    "this rule to the previous number x in the sequence:\n",
    "x = {\n",
    "𝑥/2 𝑖𝑓 𝑥 𝑖𝑠 𝑒𝑣𝑒𝑛\n",
    "3𝑥 + 1 𝑖𝑓 𝑥 𝑖𝑠 𝑜𝑑𝑑\n",
    "Your function should stop when the sequence gets to number 1. Your\n",
    "implementation must be recursive, without any loops.\n",
    "\n",
    ">>> collatz(1)\n",
    "1\n",
    ">>> collatz(10)\n",
    "10\n",
    "5\n",
    "16\n",
    "8\n",
    "4\n",
    "2\n",
    "1\n"
   ]
  },
  {
   "cell_type": "code",
   "execution_count": 11,
   "id": "20fe6518",
   "metadata": {},
   "outputs": [
    {
     "name": "stdout",
     "output_type": "stream",
     "text": [
      "Collatz sequence for 1:\n",
      "1\n",
      "\n",
      "Collatz sequence for 10:\n",
      "10\n",
      "5\n",
      "16\n",
      "8\n",
      "4\n",
      "2\n",
      "1\n"
     ]
    }
   ],
   "source": [
    "def collatz(x):\n",
    "   \n",
    "    print(x)  # Print the current number\n",
    "\n",
    "    if x == 1:  # Base case: Stop when x reaches 1\n",
    "        return\n",
    "\n",
    "    # Recursive case: Continue the Collatz sequence\n",
    "    if x % 2 == 0:\n",
    "        collatz(x // 2) # If x is even, divide by 2 and call collatz with the result\n",
    "    else:\n",
    "        collatz(3 * x + 1) # If x is odd, apply the 3x + 1 rule and call collatz with the result\n",
    "\n",
    "print(\"Collatz sequence for 1:\")\n",
    "collatz(1)\n",
    "\n",
    "print(\"\\nCollatz sequence for 10:\")\n",
    "collatz(10)\n"
   ]
  },
  {
   "cell_type": "markdown",
   "id": "8ee83c98",
   "metadata": {},
   "source": [
    "# Question 5\n",
    "\n"
   ]
  },
  {
   "cell_type": "markdown",
   "id": "a5c54762",
   "metadata": {},
   "source": [
    "Write a recursive method binary() that takes a non-negative\n",
    "integer n and prints the binary representation of integer n.\n",
    ">>> binary(0) : 0\n",
    ">>> binary(1) : 1\n",
    ">>> binary(3) :  11\n",
    ">>> binary(9) : 1001\n"
   ]
  },
  {
   "cell_type": "code",
   "execution_count": 6,
   "id": "668f89f6",
   "metadata": {},
   "outputs": [
    {
     "name": "stdout",
     "output_type": "stream",
     "text": [
      "Binary representation of 0: 0\n",
      "Binary representation of 1: 01\n",
      "Binary representation of 3: 011\n",
      "Binary representation of 9: 01001\n"
     ]
    }
   ],
   "source": [
    "def binary(n):\n",
    "    if n == 0: \n",
    "        return '0'\n",
    "    \n",
    "    return binary(n // 2) + str(n % 2)  \n",
    "\n",
    "print(\"Binary representation of 0:\", binary(0))\n",
    "print(\"Binary representation of 1:\", binary(1))\n",
    "print(\"Binary representation of 3:\", binary(3))\n",
    "print(\"Binary representation of 9:\", binary(9))\n"
   ]
  },
  {
   "cell_type": "markdown",
   "id": "497f1c3e",
   "metadata": {},
   "source": [
    "# Question 6\n",
    "\n",
    "Implement a class named HeadingParser that can be used to parse an HTML document, and retrieve and print all the headings in the document. You should implement your class as a subclass of HTMLParser, defined in Standard Library module html.parser. When fed a string containing HTML code, your class should print the headings, one per line and in the order in which they appear in the document. Each heading should be indented as follows: an h1 heading should have indentation 0, and h2 heading should have indentation 1, etc. Test your implementation using w3c.html.\n",
    "\n",
    ">>> infile = open('w3c.html')\n",
    ">>> content = infile.read()\n",
    ">>> infile.close()\n",
    ">>> hp = HeadingParser()\n",
    ">>> hp.feed(content)\n",
    "W3C Mission\n",
    "Principles\n",
    "\n"
   ]
  },
  {
   "cell_type": "code",
   "execution_count": 2,
   "id": "1f11fc63",
   "metadata": {},
   "outputs": [
    {
     "name": "stdout",
     "output_type": "stream",
     "text": [
      "W3C Mission\n",
      " Principles\n"
     ]
    }
   ],
   "source": [
    "from html.parser import HTMLParser\n",
    "\n",
    "class HeadingParser(HTMLParser):\n",
    "    def __init__(self):\n",
    "        super().__init__()\n",
    "        self.headings = []\n",
    "\n",
    "    def handle_starttag(self, tag, attrs):\n",
    "        if tag.startswith('h') and tag[1:].isdigit():\n",
    "            indentation = int(tag[1]) - 1  # Calculate the indentation\n",
    "            self.headings.append(' ' * indentation)  # Add indentation for the heading\n",
    "\n",
    "    def handle_data(self, data):\n",
    "        if self.headings:\n",
    "            self.headings[-1] += data.strip()  # Append data to the last heading\n",
    "\n",
    "    def get_headings(self):\n",
    "        return self.headings\n",
    "\n",
    "# path of the file referring to\n",
    "file_path = r'C:\\Users\\sky26\\Downloads\\BDAT\\BDAT 1004 Data Programming\\Problem Set 2\\w3c.txt'\n",
    "\n",
    "with open(file_path, 'r') as infile:\n",
    "    content = infile.read()  # Read the content of the HTML file\n",
    "\n",
    "hp = HeadingParser()  # Create an instance of HeadingParser\n",
    "hp.feed(content)  # Feed the HTML content to the parser\n",
    "\n",
    "headings = hp.get_headings()  // Get the headings\n",
    "for heading in headings:\n",
    " print(heading)  // Print each heading\n"
   ]
  },
  {
   "cell_type": "markdown",
   "id": "102d705e",
   "metadata": {},
   "source": [
    "# Question 7\n",
    "\n",
    "Implement recursive function webdir() that takes as input: a URL (as a string) and\n",
    "non-negative integers depth and indent. Your function should visit every web\n",
    "page reachable from the starting URL web page in depth clicks or less, and print\n",
    "each web page's URL. As shown below, indentation, specified by indent, should\n",
    "be used to indicate the depth of a URL.\n",
    ">>>\n",
    "webdir('http://reed.cs.depaul.edu/lperkovic/csc242/test1.html'\n",
    ", 2, 0)\n",
    "http://reed.cs.depaul.edu/lperkovic/csc242/test1.html\n",
    " http://reed.cs.depaul.edu/lperkovic/csc242/test2.html\n",
    " http://reed.cs.depaul.edu/lperkovic/csc242/test4.html\n",
    " http://reed.cs.depaul.edu/lperkovic/csc242/test3.html\n",
    " http://reed.cs.depaul.edu/lperkovic/csc242/test4.html\n"
   ]
  },
  {
   "cell_type": "code",
   "execution_count": 1,
   "id": "269d125c",
   "metadata": {},
   "outputs": [
    {
     "name": "stdout",
     "output_type": "stream",
     "text": [
      "http://reed.cs.depaul.edu/lperkovic/csc242/test1.html\n"
     ]
    }
   ],
   "source": [
    "import requests\n",
    "from bs4 import BeautifulSoup\n",
    "\n",
    "def fetch_urls(url):\n",
    "    \"\"\"\n",
    "    Fetch URLs from the given web page.\n",
    "\n",
    "    Parameters:\n",
    "    url (str): The URL of the web page.\n",
    "\n",
    "    Returns:\n",
    "    list: A list of URLs found on the web page.\n",
    "    \"\"\"\n",
    "    # Send a GET request to fetch the web page content\n",
    "    response = requests.get(url)\n",
    "\n",
    "    # Parse the HTML content\n",
    "    soup = BeautifulSoup(response.text, 'html.parser')\n",
    "\n",
    "    # Extract URLs from 'a' tags with 'href' attribute\n",
    "    urls = [a['href'] for a in soup.find_all('a', href=True)]\n",
    "    return urls\n",
    "\n",
    "def webdir(url, depth, indent):\n",
    "    \"\"\"\n",
    "    Visit web pages reachable from the starting URL up to the specified depth and print each web page's URL with proper indentation.\n",
    "\n",
    "    Parameters:\n",
    "    url (str): The URL of the current web page.\n",
    "    depth (int): The maximum depth for visiting web pages.\n",
    "    indent (int): The indentation level for displaying URLs.\n",
    "    \"\"\"\n",
    "    # Base case: If depth is less than 0, stop recursion\n",
    "    if depth < 0:\n",
    "        return\n",
    "\n",
    "    # Print the current URL with proper indentation\n",
    "    print(' ' * indent + url)\n",
    "\n",
    "    # Fetch URLs from the current page\n",
    "    urls = fetch_urls(url)\n",
    "\n",
    "    # Recursively visit each URL with reduced depth and increased indentation\n",
    "    for next_url in urls:\n",
    "        webdir(next_url, depth - 1, indent + 1)\n",
    "\n",
    "\n",
    "webdir('http://reed.cs.depaul.edu/lperkovic/csc242/test1.html', 2, 0)\n"
   ]
  },
  {
   "cell_type": "markdown",
   "id": "cb30a7c3",
   "metadata": {},
   "source": [
    "# Question 8\n",
    "\n",
    "Write SQL queries on the below database table that return:\n",
    "\n",
    "|   City       |     Country     | Season    |   Temperature (C)   |  Rainfall (mm)   |             \n",
    "|:-----------  |---------------- |-----------|-------------------  | ----------------:|     \n",
    "|   Mumbai     |      India      | Winter    |     24.8            |    5.9           |\n",
    "|   Mumbai     |      India      | Spring    |     28.4            |    16.2          | \n",
    "|   Mumbai     |      India      | Summer    |     27.9            |    1549.4        | \n",
    "|   Mumbai     |      India      | Fall      |     27.6            |    346.0         | \n",
    "|   London     | United Kingdom  | Winter    |     4.2             |    207.7         |\n",
    "|   London     | United Kingdom  | Spring    |     8.3             |    169.6         |\n",
    "|   London     | United Kingdom  | Summer    |     15.7            |    157.0         | \n",
    "|   London     | United Kingdom  | Fall      |     10.4            |    218.5         |\n",
    "|   Cairo      |      Egypt      | Winter    |     13.6            |    16.5          |\n",
    "|   Cairo      |      Egypt      | Spring    |     20.7            |    6.5           |\n",
    "|   Cairo      |      Egypt      | Summer    |     27.7            |    0.1           | \n",
    "|   Cairo      |      Egypt      | Fall      |     22.2            |    4.5           |\n"
   ]
  },
  {
   "cell_type": "markdown",
   "id": "78b1bc2f",
   "metadata": {},
   "source": [
    "a) All the temperature data."
   ]
  },
  {
   "cell_type": "markdown",
   "id": "dd92f45d",
   "metadata": {},
   "source": [
    "# Answer\n",
    "SELECT Temperature FROM WeatherData; // Database name used as WeatherData\n"
   ]
  },
  {
   "cell_type": "markdown",
   "id": "f6b170ba",
   "metadata": {},
   "source": [
    "\n",
    "b) All the cities, but without repetition."
   ]
  },
  {
   "cell_type": "markdown",
   "id": "40c0218c",
   "metadata": {},
   "source": [
    "# Answer\n",
    "SELECT DISTINCT City FROM WeatherData; // Database name used as WeatherData\n"
   ]
  },
  {
   "cell_type": "markdown",
   "id": "cc0c547d",
   "metadata": {},
   "source": [
    "\n",
    "c) All the records for India."
   ]
  },
  {
   "cell_type": "markdown",
   "id": "cbf22dda",
   "metadata": {},
   "source": [
    "# Answer\n",
    "SELECT * FROM WeatherData WHERE Country = 'India'; // Database name used as WeatherData\n"
   ]
  },
  {
   "cell_type": "markdown",
   "id": "cc294e2e",
   "metadata": {},
   "source": [
    "\n",
    "d) All the Fall records."
   ]
  },
  {
   "cell_type": "markdown",
   "id": "13d87d81",
   "metadata": {},
   "source": [
    "# Answer\n",
    "SELECT * FROM WeatherData WHERE Season = 'Fall'; // Database name used as WeatherData\n"
   ]
  },
  {
   "cell_type": "markdown",
   "id": "f52561fc",
   "metadata": {},
   "source": [
    "\n",
    "e) The city, country, and season for which the average rainfall is between 200 and 400 millimeters."
   ]
  },
  {
   "cell_type": "markdown",
   "id": "e55114ec",
   "metadata": {},
   "source": [
    "# Answer\n",
    "SELECT City, Country, Season\n",
    "FROM WeatherData\n",
    "GROUP BY City, Country, Season\n",
    "HAVING AVG(Rainfall) BETWEEN 200 AND 400; // Database name used as WeatherData\n"
   ]
  },
  {
   "cell_type": "markdown",
   "id": "1108faf0",
   "metadata": {},
   "source": [
    "\n",
    "f) The city and country for which the average Fall temperature is above 20 degrees, in increasing temperature order."
   ]
  },
  {
   "cell_type": "markdown",
   "id": "27c4a1e7",
   "metadata": {},
   "source": [
    "# Answer\n",
    "SELECT City, Country FROM WeatherData WHERE Season = 'Fall'\n",
    "GROUP BY City, Country HAVING AVG(Temperature) > 20\n",
    "ORDER BY AVG(Temperature) ASC; // Database name used as WeatherData\n"
   ]
  },
  {
   "cell_type": "markdown",
   "id": "6ad3e1de",
   "metadata": {},
   "source": [
    "\n",
    "g) The total annual rainfall for Cairo."
   ]
  },
  {
   "cell_type": "markdown",
   "id": "79a73a54",
   "metadata": {},
   "source": [
    "# Answer\n",
    "SELECT SUM(Rainfall) AS TotalRainfall\n",
    "FROM WeatherData\n",
    "WHERE City = 'Cairo'; // Database name used as WeatherData\n"
   ]
  },
  {
   "cell_type": "markdown",
   "id": "e538e947",
   "metadata": {},
   "source": [
    "\n",
    "h) The total rainfall for each season."
   ]
  },
  {
   "cell_type": "markdown",
   "id": "c5dfd9dd",
   "metadata": {},
   "source": [
    "# Answer\n",
    "SELECT Season, SUM(Rainfall) AS TotalRainfall\n",
    "FROM WeatherData\n",
    "GROUP BY Season; //Database name used as WeatherData\n"
   ]
  },
  {
   "cell_type": "markdown",
   "id": "dad01a3e",
   "metadata": {},
   "source": [
    "# Question 9\n",
    "\n",
    "Suppose list words is defined as follows:\n",
    ">>> words = ['The', 'quick', 'brown', 'fox', 'jumps', 'over',\n",
    "'the', 'lazy', 'dog']\n",
    "\n",
    "Write list comprehension expressions that use list words and generate the following\n",
    "lists:\n"
   ]
  },
  {
   "cell_type": "markdown",
   "id": "5f0a4d1c",
   "metadata": {},
   "source": [
    "a) ['THE', 'QUICK', 'BROWN', 'FOX', 'JUMPS', 'OVER', 'THE','LAZY', 'DOG']\n"
   ]
  },
  {
   "cell_type": "code",
   "execution_count": 31,
   "id": "ac2007a7",
   "metadata": {},
   "outputs": [
    {
     "name": "stdout",
     "output_type": "stream",
     "text": [
      "['THE', 'QUICK', 'BROWN', 'FOX', 'JUMPS', 'OVER', 'THE', 'LAZY', 'DOG']\n"
     ]
    }
   ],
   "source": [
    "words = ['The', 'quick', 'brown', 'fox', 'jumps', 'over', 'the', 'lazy', 'dog'] \n",
    "\n",
    "upper_words = [word.upper() for word in words]\n",
    "print(upper_words)\n"
   ]
  },
  {
   "cell_type": "markdown",
   "id": "f4e11c6b",
   "metadata": {},
   "source": [
    "b) ['the', 'quick', 'brown', 'fox', 'jumps', 'over', 'the','lazy', 'dog']\n"
   ]
  },
  {
   "cell_type": "code",
   "execution_count": 32,
   "id": "a4cb39cc",
   "metadata": {},
   "outputs": [
    {
     "name": "stdout",
     "output_type": "stream",
     "text": [
      "['the', 'quick', 'brown', 'fox', 'jumps', 'over', 'the', 'lazy', 'dog']\n"
     ]
    }
   ],
   "source": [
    "words = ['The', 'quick', 'brown', 'fox', 'jumps', 'over', 'the', 'lazy', 'dog']\n",
    "\n",
    "lower_words = [word.lower() for word in words]\n",
    "print(lower_words)\n"
   ]
  },
  {
   "cell_type": "markdown",
   "id": "4a41d5ea",
   "metadata": {},
   "source": [
    "c) [3, 5, 5, 3, 5, 4, 3, 4, 3] (the list of lengths of words in list words).\n"
   ]
  },
  {
   "cell_type": "code",
   "execution_count": 33,
   "id": "320e2b20",
   "metadata": {},
   "outputs": [
    {
     "name": "stdout",
     "output_type": "stream",
     "text": [
      "[3, 5, 5, 3, 5, 4, 3, 4, 3]\n"
     ]
    }
   ],
   "source": [
    "words = ['The', 'quick', 'brown', 'fox', 'jumps', 'over', 'the', 'lazy', 'dog']\n",
    "\n",
    "word_lengths = [len(word) for word in words]\n",
    "print(word_lengths)\n"
   ]
  },
  {
   "cell_type": "markdown",
   "id": "a7967234",
   "metadata": {},
   "source": [
    "d) [['THE', 'the', 3], ['QUICK', 'quick', 5], ['BROWN','brown', 5], ['FOX', 'fox', 3], ['JUMPS', 'jumps', 5],['OVER', 'over', 4], ['THE', 'the', 3], ['LAZY', 'lazy',4], ['DOG', 'dog', 3]] \n",
    "\n",
    "(the list containing a list for every word of list words, where each list contains the word in uppercase and lowercase and the length of the word.)"
   ]
  },
  {
   "cell_type": "code",
   "execution_count": 2,
   "id": "12abf615",
   "metadata": {},
   "outputs": [
    {
     "name": "stdout",
     "output_type": "stream",
     "text": [
      "[['THE', 'the', 3], ['QUICK', 'quick', 5], ['BROWN', 'brown', 5], ['FOX', 'fox', 3], ['JUMPS', 'jumps', 5], ['OVER', 'over', 4], ['THE', 'the', 3], ['LAZY', 'lazy', 4], ['DOG', 'dog', 3]]\n"
     ]
    }
   ],
   "source": [
    "words = ['The', 'quick', 'brown', 'fox', 'jumps', 'over', 'the', 'lazy', 'dog']\n",
    "\n",
    "word_upper_lower_length = [[word.upper(), word.lower(), len(word)] for word in words]\n",
    "print(word_upper_lower_length)\n"
   ]
  },
  {
   "cell_type": "markdown",
   "id": "e97d3bd9",
   "metadata": {},
   "source": [
    "e) ['The', 'quick', 'brown', 'fox', 'jumps', 'over', 'the','lazy', 'dog'] \n",
    "\n",
    "(the list of words in list words containing 4 or more characters.)"
   ]
  },
  {
   "cell_type": "code",
   "execution_count": 35,
   "id": "612e604f",
   "metadata": {},
   "outputs": [
    {
     "name": "stdout",
     "output_type": "stream",
     "text": [
      "['quick', 'brown', 'jumps', 'over', 'lazy']\n"
     ]
    }
   ],
   "source": [
    "words = ['The', 'quick', 'brown', 'fox', 'jumps', 'over', 'the', 'lazy', 'dog']\n",
    "\n",
    "char_4_or_more = [word for word in words if len(word) >= 4]\n",
    "print(char_4_or_more)\n"
   ]
  }
 ],
 "metadata": {
  "kernelspec": {
   "display_name": "Python 3 (ipykernel)",
   "language": "python",
   "name": "python3"
  },
  "language_info": {
   "codemirror_mode": {
    "name": "ipython",
    "version": 3
   },
   "file_extension": ".py",
   "mimetype": "text/x-python",
   "name": "python",
   "nbconvert_exporter": "python",
   "pygments_lexer": "ipython3",
   "version": "3.11.4"
  }
 },
 "nbformat": 4,
 "nbformat_minor": 5
}
